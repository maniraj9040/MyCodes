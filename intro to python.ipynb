{
 "cells": [
  {
   "cell_type": "code",
   "execution_count": 2,
   "metadata": {},
   "outputs": [
    {
     "name": "stdout",
     "output_type": "stream",
     "text": [
      "28\n",
      "100\n",
      "2800\n"
     ]
    }
   ],
   "source": [
    "## checking how numpy is better than list\n",
    "import numpy as np\n",
    "import time \n",
    "import sys\n",
    "s = range(100)\n",
    "print(sys.getsizeof(1))           # Return the size of one element of an array\n",
    "print(len(s))                     # Returns the total number of elements in an array\n",
    "print(sys.getsizeof(5)*len(s))    "
   ]
  },
  {
   "cell_type": "code",
   "execution_count": null,
   "metadata": {},
   "outputs": [],
   "source": []
  },
  {
   "cell_type": "code",
   "execution_count": 9,
   "metadata": {},
   "outputs": [
    {
     "name": "stdout",
     "output_type": "stream",
     "text": [
      "100\n",
      "4\n",
      "400\n"
     ]
    }
   ],
   "source": [
    "d = np.arange(100)\n",
    "print(d.size)                     #  Return total number of elements of an array.\n",
    "print(d.itemsize)                 #  Return the size in bytes of each element of an array.\n",
    "print(d.size*d.itemsize)          #  space occupied by one element multiplied by total number of elements in an array will\n",
    "                                  #   give total space occupied.\n"
   ]
  },
  {
   "cell_type": "code",
   "execution_count": 38,
   "metadata": {},
   "outputs": [
    {
     "name": "stdout",
     "output_type": "stream",
     "text": [
      "[0, 2, 4, 6, 8, 10, 12, 14, 16, 18, 20, 22, 24, 26, 28, 30, 32, 34, 36, 38, 40, 42, 44, 46, 48, 50, 52, 54, 56, 58, 60, 62, 64, 66, 68, 70, 72, 74, 76, 78, 80, 82, 84, 86, 88, 90, 92, 94, 96, 98, 100, 102, 104, 106, 108, 110, 112, 114, 116, 118, 120, 122, 124, 126, 128, 130, 132, 134, 136, 138, 140, 142, 144, 146, 148, 150, 152, 154, 156, 158, 160, 162, 164, 166, 168, 170, 172, 174, 176, 178, 180, 182, 184, 186, 188, 190, 192, 194, 196, 198]\n",
      "time taken 1.0001659393310547\n"
     ]
    }
   ],
   "source": [
    "size = 10000000000\n",
    "l1 = range(size)\n",
    "l2 = range(size)\n",
    "start = time.time()\n",
    "result = [(x,y) for x,y in zip(l1,l2)]\n",
    "# print(result)\n",
    "print(\"time taken\",(time.time()-start)*1000)\n",
    "\n"
   ]
  },
  {
   "cell_type": "code",
   "execution_count": 65,
   "metadata": {},
   "outputs": [
    {
     "ename": "ValueError",
     "evalue": "Maximum allowed size exceeded",
     "output_type": "error",
     "traceback": [
      "\u001b[1;31m---------------------------------------------------------------------------\u001b[0m",
      "\u001b[1;31mValueError\u001b[0m                                Traceback (most recent call last)",
      "\u001b[1;32m<ipython-input-65-15de756b62c0>\u001b[0m in \u001b[0;36m<module>\u001b[1;34m\u001b[0m\n\u001b[1;32m----> 1\u001b[1;33m \u001b[0ma1\u001b[0m \u001b[1;33m=\u001b[0m \u001b[0mnp\u001b[0m\u001b[1;33m.\u001b[0m\u001b[0marange\u001b[0m\u001b[1;33m(\u001b[0m\u001b[0msize\u001b[0m\u001b[1;33m)\u001b[0m\u001b[1;33m\u001b[0m\u001b[0m\n\u001b[0m\u001b[0;32m      2\u001b[0m \u001b[0ma2\u001b[0m \u001b[1;33m=\u001b[0m \u001b[0mnp\u001b[0m\u001b[1;33m.\u001b[0m\u001b[0marange\u001b[0m\u001b[1;33m(\u001b[0m\u001b[0msize\u001b[0m\u001b[1;33m)\u001b[0m\u001b[1;33m\u001b[0m\u001b[0m\n\u001b[0;32m      3\u001b[0m \u001b[0mresult\u001b[0m \u001b[1;33m=\u001b[0m \u001b[0ma1\u001b[0m\u001b[1;33m+\u001b[0m\u001b[0ma2\u001b[0m\u001b[1;33m\u001b[0m\u001b[0m\n\u001b[0;32m      4\u001b[0m \u001b[0mprint\u001b[0m\u001b[1;33m(\u001b[0m\u001b[0mresult\u001b[0m\u001b[1;33m)\u001b[0m\u001b[1;33m\u001b[0m\u001b[0m\n\u001b[0;32m      5\u001b[0m \u001b[0mprint\u001b[0m\u001b[1;33m(\u001b[0m\u001b[1;33m(\u001b[0m\u001b[0mtime\u001b[0m\u001b[1;33m.\u001b[0m\u001b[0mtime\u001b[0m\u001b[1;33m(\u001b[0m\u001b[1;33m)\u001b[0m\u001b[1;33m-\u001b[0m\u001b[0mstart\u001b[0m\u001b[1;33m)\u001b[0m\u001b[1;33m*\u001b[0m\u001b[1;36m1000\u001b[0m\u001b[1;33m)\u001b[0m\u001b[1;33m\u001b[0m\u001b[0m\n",
      "\u001b[1;31mValueError\u001b[0m: Maximum allowed size exceeded"
     ]
    }
   ],
   "source": [
    "a1 = np.arange(size)\n",
    "a2 = np.arange(size)\n",
    "result = a1+a2\n",
    "print(result)\n",
    "print((time.time()-start)*1000)\n"
   ]
  },
  {
   "cell_type": "code",
   "execution_count": 15,
   "metadata": {},
   "outputs": [
    {
     "name": "stdout",
     "output_type": "stream",
     "text": [
      "[[ 0  1  2  3  4  5  6  7  8  9]\n",
      " [10 11 12 13 14 15 16 17 18 19]\n",
      " [20 21 22 23 24 25 26 27 28 29]\n",
      " [30 31 32 33 34 35 36 37 38 39]\n",
      " [40 41 42 43 44 45 46 47 48 49]\n",
      " [50 51 52 53 54 55 56 57 58 59]\n",
      " [60 61 62 63 64 65 66 67 68 69]\n",
      " [70 71 72 73 74 75 76 77 78 79]\n",
      " [80 81 82 83 84 85 86 87 88 89]\n",
      " [90 91 92 93 94 95 96 97 98 99]]\n"
     ]
    }
   ],
   "source": [
    "import numpy as np\n",
    "a = np.arange(100).reshape(10,10)\n",
    "print(a)\n",
    "\n"
   ]
  },
  {
   "cell_type": "code",
   "execution_count": 17,
   "metadata": {},
   "outputs": [
    {
     "name": "stdout",
     "output_type": "stream",
     "text": [
      "2\n"
     ]
    }
   ],
   "source": [
    "print(a[0][2])"
   ]
  },
  {
   "cell_type": "code",
   "execution_count": 19,
   "metadata": {},
   "outputs": [
    {
     "ename": "TypeError",
     "evalue": "'int' object is not iterable",
     "output_type": "error",
     "traceback": [
      "\u001b[1;31m---------------------------------------------------------------------------\u001b[0m",
      "\u001b[1;31mTypeError\u001b[0m                                 Traceback (most recent call last)",
      "\u001b[1;32m<ipython-input-19-34f0b1d6f629>\u001b[0m in \u001b[0;36m<module>\u001b[1;34m\u001b[0m\n\u001b[1;32m----> 1\u001b[1;33m \u001b[1;32mfor\u001b[0m \u001b[0mx\u001b[0m\u001b[1;33m,\u001b[0m\u001b[0my\u001b[0m \u001b[1;32min\u001b[0m \u001b[0mlen\u001b[0m\u001b[1;33m(\u001b[0m\u001b[0ma\u001b[0m\u001b[1;33m)\u001b[0m \u001b[1;33m:\u001b[0m\u001b[1;33m\u001b[0m\u001b[0m\n\u001b[0m\u001b[0;32m      2\u001b[0m     \u001b[0mprint\u001b[0m\u001b[1;33m(\u001b[0m\u001b[0ma\u001b[0m\u001b[1;33m[\u001b[0m\u001b[0mx\u001b[0m\u001b[1;33m]\u001b[0m\u001b[1;33m[\u001b[0m\u001b[0my\u001b[0m\u001b[1;33m]\u001b[0m\u001b[1;33m)\u001b[0m\u001b[1;33m\u001b[0m\u001b[0m\n",
      "\u001b[1;31mTypeError\u001b[0m: 'int' object is not iterable"
     ]
    }
   ],
   "source": [
    "for x,y in len(a) :\n",
    "    print(a[x][y])"
   ]
  },
  {
   "cell_type": "code",
   "execution_count": 42,
   "metadata": {
    "scrolled": false
   },
   "outputs": [
    {
     "name": "stdout",
     "output_type": "stream",
     "text": [
      "********************\n",
      "*                  *\n",
      "*                  *\n",
      "*                  *\n",
      "*                  *\n",
      "********************\n"
     ]
    }
   ],
   "source": [
    "for x in range(1 , 7):\n",
    "    for j in range(1,21):\n",
    "        if(x ==1 or x == 6 or j == 1 or j ==20):\n",
    "            print(\"*\",end=\"\")            \n",
    "        else : \n",
    "            print(\" \", end=\"\")   \n",
    "    print()\n",
    "          \n",
    "     \n",
    "  \n",
    "    \n",
    "    "
   ]
  },
  {
   "cell_type": "code",
   "execution_count": 14,
   "metadata": {},
   "outputs": [
    {
     "name": "stdout",
     "output_type": "stream",
     "text": [
      "[[ 0  1  2]\n",
      " [ 3  4  5]\n",
      " [ 6  7  8]\n",
      " [ 9 10 11]\n",
      " [12 13 14]\n",
      " [15 16 17]\n",
      " [18 19 20]\n",
      " [21 22 23]\n",
      " [24 25 26]\n",
      " [27 28 29]]\n",
      "dimensions of a:  2\n"
     ]
    }
   ],
   "source": [
    "a = np.arange(30).reshape(10,3)  #reshape(rows,columns)   for 2 dimensional array\n",
    "print(a)\n",
    "print(\"dimensions of a: \",a.ndim)"
   ]
  },
  {
   "cell_type": "code",
   "execution_count": 19,
   "metadata": {},
   "outputs": [
    {
     "name": "stdout",
     "output_type": "stream",
     "text": [
      "[[[ 0  1  2  3  4  5  6]\n",
      "  [ 7  8  9 10 11 12 13]]\n",
      "\n",
      " [[14 15 16 17 18 19 20]\n",
      "  [21 22 23 24 25 26 27]]]\n",
      "dimensions of a :  3\n"
     ]
    }
   ],
   "source": [
    "a = np.arange(28).reshape(2,2,7)  #reshape(dimensions,rows,columns)  for 3 dimensional array\n",
    "print(a)\n",
    "print(\"dimensions of a : \",a.ndim)"
   ]
  },
  {
   "cell_type": "code",
   "execution_count": 24,
   "metadata": {},
   "outputs": [
    {
     "name": "stdout",
     "output_type": "stream",
     "text": [
      "[[      nan       nan       nan       nan       nan       nan       nan\n",
      "        nan       nan       nan       nan]\n",
      " [0.000e+00       nan       nan       nan       nan 9.000e+00       nan\n",
      "        nan 2.012e+03 9.000e+00 1.200e+01]\n",
      " [1.000e+00       nan       nan       nan       nan 9.000e+00       nan\n",
      "        nan 2.012e+03 9.000e+00 1.200e+01]\n",
      " [2.000e+00       nan       nan       nan       nan 8.500e+00       nan\n",
      "        nan 2.012e+03 9.000e+00 1.200e+01]\n",
      " [3.000e+00       nan       nan       nan       nan 8.500e+00       nan\n",
      "        nan 2.012e+03 9.000e+00 1.100e+01]]\n"
     ]
    }
   ],
   "source": [
    "mydata = np.genfromtxt('C:/Users/mlangaru.OSIUS/Desktop/ing.csv',delimiter=',')\n",
    "print(mydata) # doesn't read text and prints it as nan(not a number) and it takes numbers as float "
   ]
  },
  {
   "cell_type": "code",
   "execution_count": 28,
   "metadata": {},
   "outputs": [
    {
     "name": "stdout",
     "output_type": "stream",
     "text": [
      "[[  -1   -1   -1   -1   -1   -1   -1   -1   -1   -1   -1]\n",
      " [   0   -1   -1   -1   -1    9   -1   -1 2012    9   12]\n",
      " [   1   -1   -1   -1   -1    9   -1   -1 2012    9   12]\n",
      " [   2   -1   -1   -1   -1    8   -1   -1 2012    9   12]\n",
      " [   3   -1   -1   -1   -1    8   -1   -1 2012    9   11]]\n"
     ]
    }
   ],
   "source": [
    "mydata = np.genfromtxt('C:/Users/mlangaru.OSIUS/Desktop/ing.csv',delimiter = ',' , dtype = 'int')\n",
    "print(mydata)  # as it doesn't read string values it is displaying then as -1 as we gave dtype as int"
   ]
  },
  {
   "cell_type": "code",
   "execution_count": 31,
   "metadata": {},
   "outputs": [
    {
     "ename": "TypeError",
     "evalue": "data type \"t\" not understood",
     "output_type": "error",
     "traceback": [
      "\u001b[1;31m---------------------------------------------------------------------------\u001b[0m",
      "\u001b[1;31mTypeError\u001b[0m                                 Traceback (most recent call last)",
      "\u001b[1;32mc:\\users\\mlangaru.osius\\appdata\\local\\programs\\python\\python36\\lib\\site-packages\\numpy\\lib\\_iotools.py\u001b[0m in \u001b[0;36measy_dtype\u001b[1;34m(ndtype, names, defaultfmt, **validationargs)\u001b[0m\n\u001b[0;32m    916\u001b[0m     \u001b[1;32mtry\u001b[0m\u001b[1;33m:\u001b[0m\u001b[1;33m\u001b[0m\u001b[0m\n\u001b[1;32m--> 917\u001b[1;33m         \u001b[0mndtype\u001b[0m \u001b[1;33m=\u001b[0m \u001b[0mnp\u001b[0m\u001b[1;33m.\u001b[0m\u001b[0mdtype\u001b[0m\u001b[1;33m(\u001b[0m\u001b[0mndtype\u001b[0m\u001b[1;33m)\u001b[0m\u001b[1;33m\u001b[0m\u001b[0m\n\u001b[0m\u001b[0;32m    918\u001b[0m     \u001b[1;32mexcept\u001b[0m \u001b[0mTypeError\u001b[0m\u001b[1;33m:\u001b[0m\u001b[1;33m\u001b[0m\u001b[0m\n",
      "\u001b[1;31mTypeError\u001b[0m: data type \"String\" not understood",
      "\nDuring handling of the above exception, another exception occurred:\n",
      "\u001b[1;31mTypeError\u001b[0m                                 Traceback (most recent call last)",
      "\u001b[1;32m<ipython-input-31-fd49607d8b19>\u001b[0m in \u001b[0;36m<module>\u001b[1;34m\u001b[0m\n\u001b[1;32m----> 1\u001b[1;33m \u001b[0mmydata\u001b[0m \u001b[1;33m=\u001b[0m \u001b[0mnp\u001b[0m\u001b[1;33m.\u001b[0m\u001b[0mgenfromtxt\u001b[0m\u001b[1;33m(\u001b[0m\u001b[1;34m'C:/Users/mlangaru.OSIUS/Desktop/ing.csv'\u001b[0m\u001b[1;33m,\u001b[0m\u001b[0mdelimiter\u001b[0m \u001b[1;33m=\u001b[0m \u001b[1;34m','\u001b[0m \u001b[1;33m,\u001b[0m \u001b[0mdtype\u001b[0m \u001b[1;33m=\u001b[0m \u001b[1;34m'String'\u001b[0m\u001b[1;33m)\u001b[0m\u001b[1;33m\u001b[0m\u001b[0m\n\u001b[0m",
      "\u001b[1;32mc:\\users\\mlangaru.osius\\appdata\\local\\programs\\python\\python36\\lib\\site-packages\\numpy\\lib\\npyio.py\u001b[0m in \u001b[0;36mgenfromtxt\u001b[1;34m(fname, dtype, comments, delimiter, skip_header, skip_footer, converters, missing_values, filling_values, usecols, names, excludelist, deletechars, replace_space, autostrip, case_sensitive, defaultfmt, unpack, usemask, loose, invalid_raise, max_rows, encoding)\u001b[0m\n\u001b[0;32m   1766\u001b[0m                            \u001b[0mdeletechars\u001b[0m\u001b[1;33m=\u001b[0m\u001b[0mdeletechars\u001b[0m\u001b[1;33m,\u001b[0m\u001b[1;33m\u001b[0m\u001b[0m\n\u001b[0;32m   1767\u001b[0m                            \u001b[0mcase_sensitive\u001b[0m\u001b[1;33m=\u001b[0m\u001b[0mcase_sensitive\u001b[0m\u001b[1;33m,\u001b[0m\u001b[1;33m\u001b[0m\u001b[0m\n\u001b[1;32m-> 1768\u001b[1;33m                            replace_space=replace_space)\n\u001b[0m\u001b[0;32m   1769\u001b[0m     \u001b[1;31m# Make sure the names is a list (for 2.5)\u001b[0m\u001b[1;33m\u001b[0m\u001b[1;33m\u001b[0m\u001b[0m\n\u001b[0;32m   1770\u001b[0m     \u001b[1;32mif\u001b[0m \u001b[0mnames\u001b[0m \u001b[1;32mis\u001b[0m \u001b[1;32mnot\u001b[0m \u001b[1;32mNone\u001b[0m\u001b[1;33m:\u001b[0m\u001b[1;33m\u001b[0m\u001b[0m\n",
      "\u001b[1;32mc:\\users\\mlangaru.osius\\appdata\\local\\programs\\python\\python36\\lib\\site-packages\\numpy\\lib\\_iotools.py\u001b[0m in \u001b[0;36measy_dtype\u001b[1;34m(ndtype, names, defaultfmt, **validationargs)\u001b[0m\n\u001b[0;32m    924\u001b[0m             \u001b[0mnames\u001b[0m \u001b[1;33m=\u001b[0m \u001b[0mnames\u001b[0m\u001b[1;33m.\u001b[0m\u001b[0msplit\u001b[0m\u001b[1;33m(\u001b[0m\u001b[1;34m\",\"\u001b[0m\u001b[1;33m)\u001b[0m\u001b[1;33m\u001b[0m\u001b[0m\n\u001b[0;32m    925\u001b[0m         \u001b[0mnames\u001b[0m \u001b[1;33m=\u001b[0m \u001b[0mvalidate\u001b[0m\u001b[1;33m(\u001b[0m\u001b[0mnames\u001b[0m\u001b[1;33m,\u001b[0m \u001b[0mnbfields\u001b[0m\u001b[1;33m=\u001b[0m\u001b[0mnbfields\u001b[0m\u001b[1;33m,\u001b[0m \u001b[0mdefaultfmt\u001b[0m\u001b[1;33m=\u001b[0m\u001b[0mdefaultfmt\u001b[0m\u001b[1;33m)\u001b[0m\u001b[1;33m\u001b[0m\u001b[0m\n\u001b[1;32m--> 926\u001b[1;33m         \u001b[0mndtype\u001b[0m \u001b[1;33m=\u001b[0m \u001b[0mnp\u001b[0m\u001b[1;33m.\u001b[0m\u001b[0mdtype\u001b[0m\u001b[1;33m(\u001b[0m\u001b[0mdict\u001b[0m\u001b[1;33m(\u001b[0m\u001b[0mformats\u001b[0m\u001b[1;33m=\u001b[0m\u001b[0mndtype\u001b[0m\u001b[1;33m,\u001b[0m \u001b[0mnames\u001b[0m\u001b[1;33m=\u001b[0m\u001b[0mnames\u001b[0m\u001b[1;33m)\u001b[0m\u001b[1;33m)\u001b[0m\u001b[1;33m\u001b[0m\u001b[0m\n\u001b[0m\u001b[0;32m    927\u001b[0m     \u001b[1;32melse\u001b[0m\u001b[1;33m:\u001b[0m\u001b[1;33m\u001b[0m\u001b[0m\n\u001b[0;32m    928\u001b[0m         \u001b[0mnbtypes\u001b[0m \u001b[1;33m=\u001b[0m \u001b[0mlen\u001b[0m\u001b[1;33m(\u001b[0m\u001b[0mndtype\u001b[0m\u001b[1;33m)\u001b[0m\u001b[1;33m\u001b[0m\u001b[0m\n",
      "\u001b[1;31mTypeError\u001b[0m: data type \"t\" not understood"
     ]
    }
   ],
   "source": [
    "mydata = np.genfromtxt('C:/Users/mlangaru.OSIUS/Desktop/ing.csv',delimiter = ',' , dtype = 'String')\n"
   ]
  },
  {
   "cell_type": "code",
   "execution_count": 37,
   "metadata": {},
   "outputs": [
    {
     "name": "stdout",
     "output_type": "stream",
     "text": [
      "addition of two arrays :  [[ 0  2  4  6  8]\n",
      " [10 12 14 16 18]]\n",
      "substraction of two arrays :  [[0 0 0 0 0]\n",
      " [0 0 0 0 0]]\n"
     ]
    }
   ],
   "source": [
    "a = np.arange(10).reshape(2,5)\n",
    "b = np.arange(10).reshape(2,5)\n",
    "print(\"addition of two arrays : \",a+b)\n",
    "print(\"substraction of two arrays : \",a-b)\n"
   ]
  },
  {
   "cell_type": "code",
   "execution_count": 41,
   "metadata": {},
   "outputs": [
    {
     "name": "stdout",
     "output_type": "stream",
     "text": [
      "division of two arrays :  [[nan  1.  1.  1.  1.]\n",
      " [ 1.  1.  1.  1.  1.]]\n",
      "multiplication of two arrays :  [[ 0  1  4  9 16]\n",
      " [25 36 49 64 81]]\n",
      "[[0 0 0 0 0]\n",
      " [0 0 0 0 0]]\n"
     ]
    },
    {
     "name": "stderr",
     "output_type": "stream",
     "text": [
      "c:\\users\\mlangaru.osius\\appdata\\local\\programs\\python\\python36\\lib\\site-packages\\ipykernel_launcher.py:1: RuntimeWarning: invalid value encountered in true_divide\n",
      "  \"\"\"Entry point for launching an IPython kernel.\n",
      "c:\\users\\mlangaru.osius\\appdata\\local\\programs\\python\\python36\\lib\\site-packages\\ipykernel_launcher.py:3: RuntimeWarning: divide by zero encountered in remainder\n",
      "  This is separate from the ipykernel package so we can avoid doing imports until\n"
     ]
    }
   ],
   "source": [
    "print(\"division of two arrays : \", a / b)\n",
    "print(\"multiplication of two arrays : \", a*b)\n",
    "print(a % b)"
   ]
  },
  {
   "cell_type": "code",
   "execution_count": 43,
   "metadata": {},
   "outputs": [
    {
     "name": "stdout",
     "output_type": "stream",
     "text": [
      "[[        1         1         4        27       256]\n",
      " [     3125     46656    823543  16777216 387420489]]\n"
     ]
    }
   ],
   "source": [
    "print(a**b)"
   ]
  },
  {
   "cell_type": "code",
   "execution_count": 59,
   "metadata": {},
   "outputs": [
    {
     "name": "stdout",
     "output_type": "stream",
     "text": [
      "45\n",
      "45\n",
      "90\n",
      "[10 35]\n",
      "[ 5  7  9 11 13]\n",
      "[[0 1 2 3 4]\n",
      " [5 6 7 8 9]]\n"
     ]
    }
   ],
   "source": [
    "\n",
    "print(a.sum())\n",
    "\n",
    "print(b.sum())\n",
    "print(a.sum()+b.sum())\n",
    "\n",
    "print(a.sum(axis=1))\n",
    "\n",
    "print(a.sum(axis=0))\n",
    "print(a)"
   ]
  },
  {
   "cell_type": "code",
   "execution_count": 71,
   "metadata": {},
   "outputs": [
    {
     "name": "stdout",
     "output_type": "stream",
     "text": [
      "0\n",
      "0\n",
      "9\n",
      "9\n",
      "0\n",
      "0\n",
      "9\n",
      "9\n",
      "[5 6 7 8 9]\n",
      "8\n",
      "[0 1 2 3 4]\n",
      "3\n",
      "[0 1 2]\n"
     ]
    }
   ],
   "source": [
    "print(a.min())\n",
    "print(a.argmin())\n",
    "print(a.max())\n",
    "print(a.argmax())\n",
    "print(b.min())\n",
    "print(b.argmin())\n",
    "print(b.max())\n",
    "print(b.argmax())\n",
    "print(a[1])\n",
    "print(a[1][3])\n",
    "print(b[0])\n",
    "print(b[0][3])\n",
    "print(b[0][:3])"
   ]
  },
  {
   "cell_type": "code",
   "execution_count": 73,
   "metadata": {},
   "outputs": [
    {
     "name": "stdout",
     "output_type": "stream",
     "text": [
      "[[0 1 2 3 4]\n",
      " [5 6 7 8 9]]\n",
      "[[0 5]\n",
      " [1 6]\n",
      " [2 7]\n",
      " [3 8]\n",
      " [4 9]]\n",
      "[0 1 2 3 4 5 6 7 8 9]\n"
     ]
    }
   ],
   "source": [
    "print(a)\n",
    "print(np.transpose(a))\n",
    "print(a.ravel())   # it flattens the array into a single list"
   ]
  }
 ],
 "metadata": {
  "kernelspec": {
   "display_name": "Python 3",
   "language": "python",
   "name": "python3"
  },
  "language_info": {
   "codemirror_mode": {
    "name": "ipython",
    "version": 3
   },
   "file_extension": ".py",
   "mimetype": "text/x-python",
   "name": "python",
   "nbconvert_exporter": "python",
   "pygments_lexer": "ipython3",
   "version": "3.6.6"
  }
 },
 "nbformat": 4,
 "nbformat_minor": 2
}
