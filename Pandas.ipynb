{
 "cells": [
  {
   "cell_type": "code",
   "execution_count": 2,
   "metadata": {},
   "outputs": [],
   "source": [
    "import pandas as pd    #importing pandas ,pandas is the primary tools used for exploring and manipulationg data."
   ]
  },
  {
   "cell_type": "code",
   "execution_count": 4,
   "metadata": {},
   "outputs": [
    {
     "name": "stdout",
     "output_type": "stream",
     "text": [
      "Help on package pandas:\n",
      "\n",
      "NAME\n",
      "    pandas\n",
      "\n",
      "DESCRIPTION\n",
      "    pandas - a powerful data analysis and manipulation library for Python\n",
      "    =====================================================================\n",
      "    \n",
      "    **pandas** is a Python package providing fast, flexible, and expressive data\n",
      "    structures designed to make working with \"relational\" or \"labeled\" data both\n",
      "    easy and intuitive. It aims to be the fundamental high-level building block for\n",
      "    doing practical, **real world** data analysis in Python. Additionally, it has\n",
      "    the broader goal of becoming **the most powerful and flexible open source data\n",
      "    analysis / manipulation tool available in any language**. It is already well on\n",
      "    its way toward this goal.\n",
      "    \n",
      "    Main Features\n",
      "    -------------\n",
      "    Here are just a few of the things that pandas does well:\n",
      "    \n",
      "      - Easy handling of missing data in floating point as well as non-floating\n",
      "        point data.\n",
      "      - Size mutability: columns can be inserted and deleted from DataFrame and\n",
      "        higher dimensional objects\n",
      "      - Automatic and explicit data alignment: objects can be explicitly aligned\n",
      "        to a set of labels, or the user can simply ignore the labels and let\n",
      "        `Series`, `DataFrame`, etc. automatically align the data for you in\n",
      "        computations.\n",
      "      - Powerful, flexible group by functionality to perform split-apply-combine\n",
      "        operations on data sets, for both aggregating and transforming data.\n",
      "      - Make it easy to convert ragged, differently-indexed data in other Python\n",
      "        and NumPy data structures into DataFrame objects.\n",
      "      - Intelligent label-based slicing, fancy indexing, and subsetting of large\n",
      "        data sets.\n",
      "      - Intuitive merging and joining data sets.\n",
      "      - Flexible reshaping and pivoting of data sets.\n",
      "      - Hierarchical labeling of axes (possible to have multiple labels per tick).\n",
      "      - Robust IO tools for loading data from flat files (CSV and delimited),\n",
      "        Excel files, databases, and saving/loading data from the ultrafast HDF5\n",
      "        format.\n",
      "      - Time series-specific functionality: date range generation and frequency\n",
      "        conversion, moving window statistics, moving window linear regressions,\n",
      "        date shifting and lagging, etc.\n",
      "\n",
      "PACKAGE CONTENTS\n",
      "    _libs (package)\n",
      "    _version\n",
      "    api (package)\n",
      "    compat (package)\n",
      "    computation (package)\n",
      "    conftest\n",
      "    core (package)\n",
      "    errors (package)\n",
      "    formats (package)\n",
      "    io (package)\n",
      "    json\n",
      "    lib\n",
      "    parser\n",
      "    plotting (package)\n",
      "    testing\n",
      "    tests (package)\n",
      "    tools (package)\n",
      "    tseries (package)\n",
      "    tslib\n",
      "    types (package)\n",
      "    util (package)\n",
      "\n",
      "SUBMODULES\n",
      "    _hashtable\n",
      "    _lib\n",
      "    _tslib\n",
      "    offsets\n",
      "\n",
      "DATA\n",
      "    IndexSlice = <pandas.core.indexing._IndexSlice object>\n",
      "    NaT = NaT\n",
      "    __docformat__ = 'restructuredtext'\n",
      "    datetools = <module 'pandas.core.datetools' from 'c:\\\\users\\...\\lib\\\\s...\n",
      "    describe_option = <pandas.core.config.CallableDynamicDoc object>\n",
      "    get_option = <pandas.core.config.CallableDynamicDoc object>\n",
      "    options = <pandas.core.config.DictWrapper object>\n",
      "    plot_params = {'xaxis.compat': False}\n",
      "    reset_option = <pandas.core.config.CallableDynamicDoc object>\n",
      "    set_option = <pandas.core.config.CallableDynamicDoc object>\n",
      "\n",
      "VERSION\n",
      "    0.23.4\n",
      "\n",
      "FILE\n",
      "    c:\\users\\mlangaru.osius\\appdata\\local\\programs\\python\\python36\\lib\\site-packages\\pandas\\__init__.py\n",
      "\n",
      "\n"
     ]
    }
   ],
   "source": [
    "help(pd.pandas)"
   ]
  },
  {
   "cell_type": "code",
   "execution_count": 6,
   "metadata": {},
   "outputs": [
    {
     "ename": "AttributeError",
     "evalue": "module 'pandas' has no attribute 'dir'",
     "output_type": "error",
     "traceback": [
      "\u001b[1;31m---------------------------------------------------------------------------\u001b[0m",
      "\u001b[1;31mAttributeError\u001b[0m                            Traceback (most recent call last)",
      "\u001b[1;32m<ipython-input-6-d69ba4bc8bf7>\u001b[0m in \u001b[0;36m<module>\u001b[1;34m\u001b[0m\n\u001b[1;32m----> 1\u001b[1;33m \u001b[0mpd\u001b[0m\u001b[1;33m.\u001b[0m\u001b[0mdir\u001b[0m\u001b[1;33m(\u001b[0m\u001b[0mapi\u001b[0m\u001b[1;33m)\u001b[0m\u001b[1;33m\u001b[0m\u001b[0m\n\u001b[0m",
      "\u001b[1;31mAttributeError\u001b[0m: module 'pandas' has no attribute 'dir'"
     ]
    }
   ],
   "source": [
    "pd.dir(api)"
   ]
  },
  {
   "cell_type": "code",
   "execution_count": 8,
   "metadata": {},
   "outputs": [
    {
     "data": {
      "text/html": [
       "<div>\n",
       "<style scoped>\n",
       "    .dataframe tbody tr th:only-of-type {\n",
       "        vertical-align: middle;\n",
       "    }\n",
       "\n",
       "    .dataframe tbody tr th {\n",
       "        vertical-align: top;\n",
       "    }\n",
       "\n",
       "    .dataframe thead th {\n",
       "        text-align: right;\n",
       "    }\n",
       "</style>\n",
       "<table border=\"1\" class=\"dataframe\">\n",
       "  <thead>\n",
       "    <tr style=\"text-align: right;\">\n",
       "      <th></th>\n",
       "      <th>x</th>\n",
       "      <th>y</th>\n",
       "    </tr>\n",
       "  </thead>\n",
       "  <tbody>\n",
       "    <tr>\n",
       "      <th>count</th>\n",
       "      <td>700.000000</td>\n",
       "      <td>699.000000</td>\n",
       "    </tr>\n",
       "    <tr>\n",
       "      <th>mean</th>\n",
       "      <td>54.985939</td>\n",
       "      <td>49.939869</td>\n",
       "    </tr>\n",
       "    <tr>\n",
       "      <th>std</th>\n",
       "      <td>134.681703</td>\n",
       "      <td>29.109217</td>\n",
       "    </tr>\n",
       "    <tr>\n",
       "      <th>min</th>\n",
       "      <td>0.000000</td>\n",
       "      <td>-3.839981</td>\n",
       "    </tr>\n",
       "    <tr>\n",
       "      <th>25%</th>\n",
       "      <td>25.000000</td>\n",
       "      <td>24.929968</td>\n",
       "    </tr>\n",
       "    <tr>\n",
       "      <th>50%</th>\n",
       "      <td>49.000000</td>\n",
       "      <td>48.973020</td>\n",
       "    </tr>\n",
       "    <tr>\n",
       "      <th>75%</th>\n",
       "      <td>75.000000</td>\n",
       "      <td>74.929911</td>\n",
       "    </tr>\n",
       "    <tr>\n",
       "      <th>max</th>\n",
       "      <td>3530.157369</td>\n",
       "      <td>108.871618</td>\n",
       "    </tr>\n",
       "  </tbody>\n",
       "</table>\n",
       "</div>"
      ],
      "text/plain": [
       "                 x           y\n",
       "count   700.000000  699.000000\n",
       "mean     54.985939   49.939869\n",
       "std     134.681703   29.109217\n",
       "min       0.000000   -3.839981\n",
       "25%      25.000000   24.929968\n",
       "50%      49.000000   48.973020\n",
       "75%      75.000000   74.929911\n",
       "max    3530.157369  108.871618"
      ]
     },
     "execution_count": 8,
     "metadata": {},
     "output_type": "execute_result"
    }
   ],
   "source": [
    "content = pd.read_csv(\"train.csv\")\n",
    "# print a summary of the data\n",
    "content.describe()"
   ]
  },
  {
   "cell_type": "code",
   "execution_count": 11,
   "metadata": {},
   "outputs": [
    {
     "data": {
      "text/plain": [
       "Index(['x', 'y'], dtype='object')"
      ]
     },
     "execution_count": 11,
     "metadata": {},
     "output_type": "execute_result"
    }
   ],
   "source": [
    "content.columns"
   ]
  },
  {
   "cell_type": "code",
   "execution_count": 72,
   "metadata": {},
   "outputs": [
    {
     "data": {
      "text/html": [
       "<div>\n",
       "<style scoped>\n",
       "    .dataframe tbody tr th:only-of-type {\n",
       "        vertical-align: middle;\n",
       "    }\n",
       "\n",
       "    .dataframe tbody tr th {\n",
       "        vertical-align: top;\n",
       "    }\n",
       "\n",
       "    .dataframe thead th {\n",
       "        text-align: right;\n",
       "    }\n",
       "</style>\n",
       "<table border=\"1\" class=\"dataframe\">\n",
       "  <thead>\n",
       "    <tr style=\"text-align: right;\">\n",
       "      <th></th>\n",
       "      <th>x</th>\n",
       "      <th>y</th>\n",
       "    </tr>\n",
       "  </thead>\n",
       "  <tbody>\n",
       "    <tr>\n",
       "      <th>count</th>\n",
       "      <td>699.000000</td>\n",
       "      <td>699.000000</td>\n",
       "    </tr>\n",
       "    <tr>\n",
       "      <th>mean</th>\n",
       "      <td>50.014306</td>\n",
       "      <td>49.939869</td>\n",
       "    </tr>\n",
       "    <tr>\n",
       "      <th>std</th>\n",
       "      <td>28.954560</td>\n",
       "      <td>29.109217</td>\n",
       "    </tr>\n",
       "    <tr>\n",
       "      <th>min</th>\n",
       "      <td>0.000000</td>\n",
       "      <td>-3.839981</td>\n",
       "    </tr>\n",
       "    <tr>\n",
       "      <th>25%</th>\n",
       "      <td>25.000000</td>\n",
       "      <td>24.929968</td>\n",
       "    </tr>\n",
       "    <tr>\n",
       "      <th>50%</th>\n",
       "      <td>49.000000</td>\n",
       "      <td>48.973020</td>\n",
       "    </tr>\n",
       "    <tr>\n",
       "      <th>75%</th>\n",
       "      <td>75.000000</td>\n",
       "      <td>74.929911</td>\n",
       "    </tr>\n",
       "    <tr>\n",
       "      <th>max</th>\n",
       "      <td>100.000000</td>\n",
       "      <td>108.871618</td>\n",
       "    </tr>\n",
       "  </tbody>\n",
       "</table>\n",
       "</div>"
      ],
      "text/plain": [
       "                x           y\n",
       "count  699.000000  699.000000\n",
       "mean    50.014306   49.939869\n",
       "std     28.954560   29.109217\n",
       "min      0.000000   -3.839981\n",
       "25%     25.000000   24.929968\n",
       "50%     49.000000   48.973020\n",
       "75%     75.000000   74.929911\n",
       "max    100.000000  108.871618"
      ]
     },
     "execution_count": 72,
     "metadata": {},
     "output_type": "execute_result"
    }
   ],
   "source": [
    "contents = content.dropna(axis = 0)    ## dropna drops missing values (think of na as \"not available\")\n",
    "contents.describe()"
   ]
  },
  {
   "cell_type": "code",
   "execution_count": 73,
   "metadata": {},
   "outputs": [
    {
     "name": "stdout",
     "output_type": "stream",
     "text": [
      "<bound method NDFrame.head of          x           y\n",
      "0     24.0   21.549452\n",
      "1     50.0   47.464463\n",
      "2     15.0   17.218656\n",
      "3     38.0   36.586398\n",
      "4     87.0   87.288984\n",
      "5     36.0   32.463875\n",
      "6     12.0   10.780897\n",
      "7     81.0   80.763399\n",
      "8     25.0   24.612151\n",
      "9      5.0    6.963319\n",
      "10    16.0   11.237573\n",
      "11    16.0   13.532902\n",
      "12    24.0   24.603239\n",
      "13    39.0   39.400500\n",
      "14    54.0   48.437538\n",
      "15    60.0   61.699003\n",
      "16    26.0   26.928324\n",
      "17    73.0   70.405206\n",
      "18    29.0   29.340924\n",
      "19    31.0   25.308952\n",
      "20    68.0   69.029343\n",
      "21    87.0   84.994847\n",
      "22    58.0   57.043103\n",
      "23    54.0   50.592199\n",
      "24    84.0   83.027722\n",
      "25    58.0   57.057527\n",
      "26    49.0   47.958833\n",
      "27    20.0   24.342264\n",
      "28    90.0   94.684883\n",
      "29    48.0   48.039707\n",
      "..     ...         ...\n",
      "670   84.0   82.889358\n",
      "671   64.0   63.613650\n",
      "672   12.0   11.296272\n",
      "673   61.0   60.022749\n",
      "674   75.0   72.603393\n",
      "675   15.0   11.879646\n",
      "676  100.0  100.701274\n",
      "677   43.0   45.124208\n",
      "678   13.0   14.811068\n",
      "679   48.0   48.093680\n",
      "680   45.0   42.291457\n",
      "681   52.0   52.733898\n",
      "682   34.0   36.723970\n",
      "683   30.0   28.645352\n",
      "684   65.0   62.166753\n",
      "685  100.0   95.584595\n",
      "686   67.0   66.043253\n",
      "687   99.0   99.956622\n",
      "688   45.0   46.149420\n",
      "689   87.0   89.137550\n",
      "690   73.0   69.717878\n",
      "691    9.0   12.317366\n",
      "692   81.0   78.202963\n",
      "693   72.0   71.309954\n",
      "694   81.0   81.455447\n",
      "695   58.0   58.595006\n",
      "696   93.0   94.625094\n",
      "697   82.0   88.603770\n",
      "698   66.0   63.648685\n",
      "699   97.0   94.975266\n",
      "\n",
      "[699 rows x 2 columns]>\n"
     ]
    }
   ],
   "source": [
    "print(contents.head)"
   ]
  },
  {
   "cell_type": "code",
   "execution_count": 70,
   "metadata": {},
   "outputs": [
    {
     "name": "stdout",
     "output_type": "stream",
     "text": [
      "0       24.0\n",
      "1       50.0\n",
      "2       15.0\n",
      "3       38.0\n",
      "4       87.0\n",
      "5       36.0\n",
      "6       12.0\n",
      "7       81.0\n",
      "8       25.0\n",
      "9        5.0\n",
      "10      16.0\n",
      "11      16.0\n",
      "12      24.0\n",
      "13      39.0\n",
      "14      54.0\n",
      "15      60.0\n",
      "16      26.0\n",
      "17      73.0\n",
      "18      29.0\n",
      "19      31.0\n",
      "20      68.0\n",
      "21      87.0\n",
      "22      58.0\n",
      "23      54.0\n",
      "24      84.0\n",
      "25      58.0\n",
      "26      49.0\n",
      "27      20.0\n",
      "28      90.0\n",
      "29      48.0\n",
      "       ...  \n",
      "670     84.0\n",
      "671     64.0\n",
      "672     12.0\n",
      "673     61.0\n",
      "674     75.0\n",
      "675     15.0\n",
      "676    100.0\n",
      "677     43.0\n",
      "678     13.0\n",
      "679     48.0\n",
      "680     45.0\n",
      "681     52.0\n",
      "682     34.0\n",
      "683     30.0\n",
      "684     65.0\n",
      "685    100.0\n",
      "686     67.0\n",
      "687     99.0\n",
      "688     45.0\n",
      "689     87.0\n",
      "690     73.0\n",
      "691      9.0\n",
      "692     81.0\n",
      "693     72.0\n",
      "694     81.0\n",
      "695     58.0\n",
      "696     93.0\n",
      "697     82.0\n",
      "698     66.0\n",
      "699     97.0\n",
      "Name: x, Length: 699, dtype: float64\n"
     ]
    }
   ],
   "source": [
    "x = contents['x']\n",
    "print(x)"
   ]
  },
  {
   "cell_type": "code",
   "execution_count": 71,
   "metadata": {},
   "outputs": [
    {
     "name": "stdout",
     "output_type": "stream",
     "text": [
      "<bound method NDFrame.head of 0       24.0\n",
      "1       50.0\n",
      "2       15.0\n",
      "3       38.0\n",
      "4       87.0\n",
      "5       36.0\n",
      "6       12.0\n",
      "7       81.0\n",
      "8       25.0\n",
      "9        5.0\n",
      "10      16.0\n",
      "11      16.0\n",
      "12      24.0\n",
      "13      39.0\n",
      "14      54.0\n",
      "15      60.0\n",
      "16      26.0\n",
      "17      73.0\n",
      "18      29.0\n",
      "19      31.0\n",
      "20      68.0\n",
      "21      87.0\n",
      "22      58.0\n",
      "23      54.0\n",
      "24      84.0\n",
      "25      58.0\n",
      "26      49.0\n",
      "27      20.0\n",
      "28      90.0\n",
      "29      48.0\n",
      "       ...  \n",
      "670     84.0\n",
      "671     64.0\n",
      "672     12.0\n",
      "673     61.0\n",
      "674     75.0\n",
      "675     15.0\n",
      "676    100.0\n",
      "677     43.0\n",
      "678     13.0\n",
      "679     48.0\n",
      "680     45.0\n",
      "681     52.0\n",
      "682     34.0\n",
      "683     30.0\n",
      "684     65.0\n",
      "685    100.0\n",
      "686     67.0\n",
      "687     99.0\n",
      "688     45.0\n",
      "689     87.0\n",
      "690     73.0\n",
      "691      9.0\n",
      "692     81.0\n",
      "693     72.0\n",
      "694     81.0\n",
      "695     58.0\n",
      "696     93.0\n",
      "697     82.0\n",
      "698     66.0\n",
      "699     97.0\n",
      "Name: x, Length: 699, dtype: float64>\n"
     ]
    }
   ],
   "source": [
    "print(x.head)"
   ]
  },
  {
   "cell_type": "code",
   "execution_count": 46,
   "metadata": {},
   "outputs": [
    {
     "name": "stdout",
     "output_type": "stream",
     "text": [
      "    0\n",
      "0   8\n",
      "1   2\n",
      "2  13\n",
      "3  24\n",
      "4  75\n",
      "5  96\n"
     ]
    }
   ],
   "source": [
    "data = [8,2,13,24,75,96]\n",
    "df = pd.DataFrame(data)\n",
    "print(df)\n"
   ]
  },
  {
   "cell_type": "code",
   "execution_count": 60,
   "metadata": {},
   "outputs": [
    {
     "name": "stdout",
     "output_type": "stream",
     "text": [
      "    y\n",
      "0 NaN\n",
      "1 NaN\n",
      "2 NaN\n"
     ]
    }
   ],
   "source": [
    "print(pd.DataFrame(df,columns=['y'],dtype=float))"
   ]
  },
  {
   "cell_type": "code",
   "execution_count": 61,
   "metadata": {},
   "outputs": [
    {
     "name": "stdout",
     "output_type": "stream",
     "text": [
      "     Name  Age\n",
      "0    Alex   10\n",
      "1     Bob   12\n",
      "2  Clarke   13\n"
     ]
    }
   ],
   "source": [
    "import pandas as pd\n",
    "data = [['Alex',10],['Bob',12],['Clarke',13]]\n",
    "df = pd.DataFrame(data,columns=['Name','Age'],dtype=int)\n",
    "print( df)"
   ]
  },
  {
   "cell_type": "code",
   "execution_count": 63,
   "metadata": {},
   "outputs": [
    {
     "data": {
      "text/html": [
       "<div>\n",
       "<style scoped>\n",
       "    .dataframe tbody tr th:only-of-type {\n",
       "        vertical-align: middle;\n",
       "    }\n",
       "\n",
       "    .dataframe tbody tr th {\n",
       "        vertical-align: top;\n",
       "    }\n",
       "\n",
       "    .dataframe thead th {\n",
       "        text-align: right;\n",
       "    }\n",
       "</style>\n",
       "<table border=\"1\" class=\"dataframe\">\n",
       "  <thead>\n",
       "    <tr style=\"text-align: right;\">\n",
       "      <th></th>\n",
       "      <th>Apples</th>\n",
       "      <th>Bananas</th>\n",
       "    </tr>\n",
       "  </thead>\n",
       "  <tbody>\n",
       "    <tr>\n",
       "      <th>0</th>\n",
       "      <td>30</td>\n",
       "      <td>21</td>\n",
       "    </tr>\n",
       "  </tbody>\n",
       "</table>\n",
       "</div>"
      ],
      "text/plain": [
       "   Apples  Bananas\n",
       "0      30       21"
      ]
     },
     "execution_count": 63,
     "metadata": {},
     "output_type": "execute_result"
    }
   ],
   "source": [
    "data = {\"Apples\": 30 , \"Bananas\" : 21}\n",
    "pd.DataFrame(data,index=[0])"
   ]
  },
  {
   "cell_type": "code",
   "execution_count": 65,
   "metadata": {},
   "outputs": [
    {
     "data": {
      "text/html": [
       "<div>\n",
       "<style scoped>\n",
       "    .dataframe tbody tr th:only-of-type {\n",
       "        vertical-align: middle;\n",
       "    }\n",
       "\n",
       "    .dataframe tbody tr th {\n",
       "        vertical-align: top;\n",
       "    }\n",
       "\n",
       "    .dataframe thead th {\n",
       "        text-align: right;\n",
       "    }\n",
       "</style>\n",
       "<table border=\"1\" class=\"dataframe\">\n",
       "  <thead>\n",
       "    <tr style=\"text-align: right;\">\n",
       "      <th></th>\n",
       "      <th>Apples</th>\n",
       "      <th>Bananas</th>\n",
       "    </tr>\n",
       "  </thead>\n",
       "  <tbody>\n",
       "    <tr>\n",
       "      <th>2017 Sales</th>\n",
       "      <td>30</td>\n",
       "      <td>21</td>\n",
       "    </tr>\n",
       "    <tr>\n",
       "      <th>2018 Sales</th>\n",
       "      <td>41</td>\n",
       "      <td>34</td>\n",
       "    </tr>\n",
       "  </tbody>\n",
       "</table>\n",
       "</div>"
      ],
      "text/plain": [
       "            Apples  Bananas\n",
       "2017 Sales      30       21\n",
       "2018 Sales      41       34"
      ]
     },
     "execution_count": 65,
     "metadata": {},
     "output_type": "execute_result"
    }
   ],
   "source": [
    "data = {\"Apples\": [30,41] , \"Bananas\" : [21,34]}\n",
    "pd.DataFrame(data,index=[\"2017 Sales\",\"2018 Sales\"])"
   ]
  },
  {
   "cell_type": "code",
   "execution_count": 67,
   "metadata": {},
   "outputs": [
    {
     "name": "stdout",
     "output_type": "stream",
     "text": [
      "flour     4 cups\n",
      "Milk       1 cup\n",
      "Eggs     2 large\n",
      "Spam       1 can\n",
      "Name: Dinner, dtype: object\n"
     ]
    }
   ],
   "source": [
    "data = {\"Dinner\":pd.Series([\"4 cups\",\"1 cup\",\"2 large\",\"1 can\"],index=[\"flour\",\"Milk\",\"Eggs\",\"Spam\"])}\n",
    "df = pd.DataFrame(data)\n",
    "print(df[\"Dinner\"])"
   ]
  },
  {
   "cell_type": "code",
   "execution_count": 69,
   "metadata": {},
   "outputs": [],
   "source": [
    "df.to_csv(\"C:/Users/mlangaru.OSIUS/Desktop/dinner.csv\",sep=\",\",encoding='utf-8')   #saving the file to a csv file"
   ]
  }
 ],
 "metadata": {
  "kernelspec": {
   "display_name": "Python 3",
   "language": "python",
   "name": "python3"
  },
  "language_info": {
   "codemirror_mode": {
    "name": "ipython",
    "version": 3
   },
   "file_extension": ".py",
   "mimetype": "text/x-python",
   "name": "python",
   "nbconvert_exporter": "python",
   "pygments_lexer": "ipython3",
   "version": "3.6.6"
  }
 },
 "nbformat": 4,
 "nbformat_minor": 2
}
