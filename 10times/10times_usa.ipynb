{
 "cells": [
  {
   "cell_type": "code",
   "execution_count": 88,
   "metadata": {},
   "outputs": [],
   "source": [
    "from bs4 import BeautifulSoup\n",
    "import requests\n",
    "import pandas as pd\n",
    "\n",
    " \n",
    "url = \"https://10times.com/hi-europe-ni/exhibitors\"\n",
    "\n",
    "page = requests.get(url)\n",
    "\n",
    "html = BeautifulSoup(page.content, 'html.parser')\n",
    "\n",
    "USA_link=[]\n",
    "USA_name=[]\n",
    "\n",
    "rows = html.find_all('td', attrs = {'class' : 'col-md-8 line'})\n",
    "for row in rows:\n",
    "    loc = row.find('small', attrs = {'class' : 'text-muted'}).text.strip()\n",
    "    if ( re.match(r'^[a-z A-Z ,]+[USA]$', str(loc), flags=0)):\n",
    "        name = row.find('b').text.strip()\n",
    "        USA_name.append(name)\n",
    "        \n",
    "        if row.find('a') != None:\n",
    "            link =  row.find('a').get('href').strip()\n",
    "            USA_link.append(link)\n",
    "        else:\n",
    "            USA_link.append('')\n",
    "            \n",
    "            \n",
    "data = {\"Exhbitor Name\" : USA_name, \"Url\" : USA_link}\n",
    "\n",
    " \n",
    "\n",
    "df = pd.DataFrame(data)\n",
    "\n",
    "df.to_csv('USA_Exhibitor_url.csv')\n",
    "\n",
    "# print(df.head())\n",
    "# print(df.tail())"
   ]
  }
 ],
 "metadata": {
  "kernelspec": {
   "display_name": "Python 3",
   "language": "python",
   "name": "python3"
  },
  "language_info": {
   "codemirror_mode": {
    "name": "ipython",
    "version": 3
   },
   "file_extension": ".py",
   "mimetype": "text/x-python",
   "name": "python",
   "nbconvert_exporter": "python",
   "pygments_lexer": "ipython3",
   "version": "3.6.6"
  }
 },
 "nbformat": 4,
 "nbformat_minor": 2
}
